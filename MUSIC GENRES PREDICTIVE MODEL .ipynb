{
 "cells": [
  {
   "cell_type": "markdown",
   "id": "d0bf267d-0fe7-4dda-8791-f0b7e3a1a2c0",
   "metadata": {},
   "source": [
    "**A1.2.**"
   ]
  },
  {
   "cell_type": "code",
   "execution_count": 115,
   "id": "107d2064-493b-4897-9ac2-76e8be7d3359",
   "metadata": {},
   "outputs": [],
   "source": [
    "#import necessary libraries\n",
    "import numpy as py\n",
    "import pandas as pd\n",
    "import matplotlib.pyplot as plt\n",
    "from sklearn.cluster import KMeans\n",
    "from sklearn.model_selection import train_test_split\n",
    "from sklearn.preprocessing import StandardScaler\n",
    "from sklearn.svm import SVC\n",
    "from sklearn.model_selection import GridSearchCV\n",
    "from sklearn.model_selection import RandomizedSearchCV\n",
    "from sklearn.ensemble import RandomForestClassifier\n",
    "from sklearn.tree import DecisionTreeClassifier\n",
    "from sklearn.metrics import confusion_matrix, accuracy_score"
   ]
  },
  {
   "cell_type": "code",
   "execution_count": 116,
   "id": "db3994e7-5d23-4cbc-b571-9029e9e1834b",
   "metadata": {},
   "outputs": [
    {
     "name": "stdout",
     "output_type": "stream",
     "text": [
      "   instance_id   artist_name                track_name  popularity  \\\n",
      "0        77382  Sheena Ringo                     獣ゆく細道          48   \n",
      "1        23554   empty_field                Fossil Roo          22   \n",
      "2        82886   The Beatles  Dear Prudence - 2018 Mix          62   \n",
      "3        37772    Pink Floyd              Have a Cigar          64   \n",
      "4        80191        A-Trak                      Push          43   \n",
      "\n",
      "   acousticness  danceability  duration_ms  energy  instrumentalness  \\\n",
      "0       0.01340         0.423       224053   0.799          0.000004   \n",
      "1       0.86200         0.590       151067   0.221          0.468000   \n",
      "2       0.09040         0.395       234973   0.538          0.000453   \n",
      "3       0.40700         0.454       307733   0.650          0.049800   \n",
      "4       0.00145         0.642       213512   0.877          0.002790   \n",
      "\n",
      "   liveness  loudness  speechiness    tempo  valence  music_genre  \n",
      "0    0.1470    -4.227       0.0447  124.626   0.5560            1  \n",
      "1    0.0736   -16.338       0.0383  129.984   0.0331            1  \n",
      "2    0.0685   -10.300       0.0456  150.785   0.3690            9  \n",
      "3    0.5890   -10.191       0.0437  120.154   0.7200            9  \n",
      "4    0.0984    -2.878       0.0450  126.058   0.4960            5  \n",
      "       instance_id              artist_name  \\\n",
      "25953        70328                    Tosca   \n",
      "25954        65621  Wolfgang Amadeus Mozart   \n",
      "25955        82975             Elmore James   \n",
      "25956        36145              Wiz Khalifa   \n",
      "25957        48372                   Dreezy   \n",
      "\n",
      "                                              track_name  popularity  \\\n",
      "25953                                       Swimswimswim          57   \n",
      "25954  Requiem in D Minor, K. 626: II. Kyrie eleison ...          13   \n",
      "25955                                      Dust My Broom          43   \n",
      "25956                    True Colors (feat. Nicki Minaj)          50   \n",
      "25957                    Chanel Slides (feat. Kash Doll)          59   \n",
      "\n",
      "       acousticness  danceability  duration_ms  energy  instrumentalness  \\\n",
      "25953       0.01400         0.903       252245   0.545           0.00492   \n",
      "25954       0.99300         0.275       179240   0.409           0.82500   \n",
      "25955       0.01150         0.507       175040   0.660           0.33600   \n",
      "25956       0.00451         0.805       255147   0.744           0.00000   \n",
      "25957       0.00570         0.809       174177   0.535           0.00000   \n",
      "\n",
      "       liveness  loudness  speechiness    tempo  valence  music_genre  \n",
      "25953     0.224    -7.761       0.0380  120.017    0.956            5  \n",
      "25954     0.215   -16.666       0.0322   77.858    0.225            3  \n",
      "25955     0.322    -4.957       0.0306  100.783    0.696            2  \n",
      "25956     0.350    -6.020       0.0572  124.983    0.519            6  \n",
      "25957     0.301    -6.186       0.0580  146.224    0.226            8  \n"
     ]
    }
   ],
   "source": [
    "# Load the dataset\n",
    "music_data = pd.read_csv(\"FIT1043-MusicGenre-Dataset.csv\")\n",
    "\n",
    "# Display the first few rows\n",
    "print(music_data.head())\n",
    "# Display the last few rows\n",
    "print(music_data.tail())\n",
    "# This helps verify that the dataset has loaded correctly and gives an insight into the data format."
   ]
  },
  {
   "cell_type": "code",
   "execution_count": 117,
   "id": "91981d82-bcec-48b6-83d9-88c038d32834",
   "metadata": {},
   "outputs": [
    {
     "name": "stdout",
     "output_type": "stream",
     "text": [
      "(25958, 15)\n"
     ]
    }
   ],
   "source": [
    "# Print the shape of the dataset to understand the dimensions (number of rows and columns)\n",
    "# This is useful to confirm if the dataset size matches the expected number of entries.\n",
    "print(music_data.shape)"
   ]
  },
  {
   "cell_type": "code",
   "execution_count": 118,
   "id": "20d76f3b-96ce-481c-b522-dd65499eed68",
   "metadata": {},
   "outputs": [
    {
     "name": "stdout",
     "output_type": "stream",
     "text": [
      "Index(['instance_id', 'artist_name', 'track_name', 'popularity',\n",
      "       'acousticness', 'danceability', 'duration_ms', 'energy',\n",
      "       'instrumentalness', 'liveness', 'loudness', 'speechiness', 'tempo',\n",
      "       'valence', 'music_genre'],\n",
      "      dtype='object')\n"
     ]
    }
   ],
   "source": [
    "# Display the column headers to ensure all expected columns are present\n",
    "# Checking the column headers can help verify that all necessary data fields have been included.\n",
    "print(music_data.columns)"
   ]
  },
  {
   "cell_type": "code",
   "execution_count": 119,
   "id": "98986cec-3da9-43fd-b6bd-af75e1708f9d",
   "metadata": {},
   "outputs": [],
   "source": [
    "# Selecting columns for 'Input Data' from the dataset\n",
    "X = music_data.iloc[:, 3:14]  #Input Data: Includes columns that contain various attributes of the songs\n",
    "\n",
    "# Selecting columns for 'Label Data' from the dataset\n",
    "y = music_data.iloc[:, 14]    #Label Data: 'music_genre' classification for each song"
   ]
  },
  {
   "cell_type": "markdown",
   "id": "6feb644f-f279-48cd-9ca4-dd44b5f2d34a",
   "metadata": {},
   "source": [
    "**A1.3.**"
   ]
  },
  {
   "cell_type": "code",
   "execution_count": 120,
   "id": "c2b98ded-ee8f-4865-bbbd-dcf8790cad16",
   "metadata": {},
   "outputs": [],
   "source": [
    "from sklearn.model_selection import train_test_split\n",
    "\n",
    "# Splitting the dataset into training and testing sets\n",
    "# X_train, y_train: These will contain 75% of the data and will be used for training the model.\n",
    "# X_test, y_test: These will contain 25% of the data and will be used for testing the model's performance.\n",
    "# 'test_size=0.25' specifies that 25% of the dataset should be set aside for the test set.\n",
    "# 'random_state=0' ensures reproducibility of the results, meaning the split will be the same every time the script is run.\n",
    "X_train, X_test, y_train, y_test = train_test_split(\n",
    "    X, y, test_size=0.25, random_state=0\n",
    ")"
   ]
  },
  {
   "cell_type": "code",
   "execution_count": 121,
   "id": "624ee708-1321-4133-bc4d-b8d068b9489d",
   "metadata": {},
   "outputs": [],
   "source": [
    "# Create a scaler object to normalize the data by subtracting the mean and scaling to unit variance.\n",
    "scaler = StandardScaler()\n",
    "\n",
    "# Fit on training data and transform it\n",
    "# Fitting the scaler computes the mean and standard deviation for each feature in the training data.\n",
    "# Transforming scales the training data according to these computed values.\n",
    "X_train_scaled = scaler.fit_transform(X_train)\n",
    "\n",
    "# Apply the same scaler that was fitted on the training data to transform the test data.\n",
    "X_test_scaled = scaler.transform(X_test)"
   ]
  },
  {
   "cell_type": "markdown",
   "id": "eaffd135-c7ba-41f4-816e-16bb465c2cc8",
   "metadata": {},
   "source": [
    "**A2.3c.**"
   ]
  },
  {
   "cell_type": "markdown",
   "id": "c2061801-87a6-4e4e-a58c-19e67e5cf4ba",
   "metadata": {},
   "source": [
    "**SVM algorithms model**"
   ]
  },
  {
   "cell_type": "code",
   "execution_count": 140,
   "id": "b41fa29f-4040-4446-9670-afe0544b9226",
   "metadata": {},
   "outputs": [
    {
     "name": "stdout",
     "output_type": "stream",
     "text": [
      "Fitting 5 folds for each of 35 candidates, totalling 175 fits\n"
     ]
    },
    {
     "data": {
      "text/html": [
       "<style>#sk-container-id-10 {color: black;background-color: white;}#sk-container-id-10 pre{padding: 0;}#sk-container-id-10 div.sk-toggleable {background-color: white;}#sk-container-id-10 label.sk-toggleable__label {cursor: pointer;display: block;width: 100%;margin-bottom: 0;padding: 0.3em;box-sizing: border-box;text-align: center;}#sk-container-id-10 label.sk-toggleable__label-arrow:before {content: \"▸\";float: left;margin-right: 0.25em;color: #696969;}#sk-container-id-10 label.sk-toggleable__label-arrow:hover:before {color: black;}#sk-container-id-10 div.sk-estimator:hover label.sk-toggleable__label-arrow:before {color: black;}#sk-container-id-10 div.sk-toggleable__content {max-height: 0;max-width: 0;overflow: hidden;text-align: left;background-color: #f0f8ff;}#sk-container-id-10 div.sk-toggleable__content pre {margin: 0.2em;color: black;border-radius: 0.25em;background-color: #f0f8ff;}#sk-container-id-10 input.sk-toggleable__control:checked~div.sk-toggleable__content {max-height: 200px;max-width: 100%;overflow: auto;}#sk-container-id-10 input.sk-toggleable__control:checked~label.sk-toggleable__label-arrow:before {content: \"▾\";}#sk-container-id-10 div.sk-estimator input.sk-toggleable__control:checked~label.sk-toggleable__label {background-color: #d4ebff;}#sk-container-id-10 div.sk-label input.sk-toggleable__control:checked~label.sk-toggleable__label {background-color: #d4ebff;}#sk-container-id-10 input.sk-hidden--visually {border: 0;clip: rect(1px 1px 1px 1px);clip: rect(1px, 1px, 1px, 1px);height: 1px;margin: -1px;overflow: hidden;padding: 0;position: absolute;width: 1px;}#sk-container-id-10 div.sk-estimator {font-family: monospace;background-color: #f0f8ff;border: 1px dotted black;border-radius: 0.25em;box-sizing: border-box;margin-bottom: 0.5em;}#sk-container-id-10 div.sk-estimator:hover {background-color: #d4ebff;}#sk-container-id-10 div.sk-parallel-item::after {content: \"\";width: 100%;border-bottom: 1px solid gray;flex-grow: 1;}#sk-container-id-10 div.sk-label:hover label.sk-toggleable__label {background-color: #d4ebff;}#sk-container-id-10 div.sk-serial::before {content: \"\";position: absolute;border-left: 1px solid gray;box-sizing: border-box;top: 0;bottom: 0;left: 50%;z-index: 0;}#sk-container-id-10 div.sk-serial {display: flex;flex-direction: column;align-items: center;background-color: white;padding-right: 0.2em;padding-left: 0.2em;position: relative;}#sk-container-id-10 div.sk-item {position: relative;z-index: 1;}#sk-container-id-10 div.sk-parallel {display: flex;align-items: stretch;justify-content: center;background-color: white;position: relative;}#sk-container-id-10 div.sk-item::before, #sk-container-id-10 div.sk-parallel-item::before {content: \"\";position: absolute;border-left: 1px solid gray;box-sizing: border-box;top: 0;bottom: 0;left: 50%;z-index: -1;}#sk-container-id-10 div.sk-parallel-item {display: flex;flex-direction: column;z-index: 1;position: relative;background-color: white;}#sk-container-id-10 div.sk-parallel-item:first-child::after {align-self: flex-end;width: 50%;}#sk-container-id-10 div.sk-parallel-item:last-child::after {align-self: flex-start;width: 50%;}#sk-container-id-10 div.sk-parallel-item:only-child::after {width: 0;}#sk-container-id-10 div.sk-dashed-wrapped {border: 1px dashed gray;margin: 0 0.4em 0.5em 0.4em;box-sizing: border-box;padding-bottom: 0.4em;background-color: white;}#sk-container-id-10 div.sk-label label {font-family: monospace;font-weight: bold;display: inline-block;line-height: 1.2em;}#sk-container-id-10 div.sk-label-container {text-align: center;}#sk-container-id-10 div.sk-container {/* jupyter's `normalize.less` sets `[hidden] { display: none; }` but bootstrap.min.css set `[hidden] { display: none !important; }` so we also need the `!important` here to be able to override the default hidden behavior on the sphinx rendered scikit-learn.org. See: https://github.com/scikit-learn/scikit-learn/issues/21755 */display: inline-block !important;position: relative;}#sk-container-id-10 div.sk-text-repr-fallback {display: none;}</style><div id=\"sk-container-id-10\" class=\"sk-top-container\"><div class=\"sk-text-repr-fallback\"><pre>GridSearchCV(cv=5, estimator=SVC(random_state=0), n_jobs=-1,\n",
       "             param_grid={&#x27;C&#x27;: [2, 3, 3.5, 4, 4.5, 5, 6],\n",
       "                         &#x27;gamma&#x27;: [0.1, 0.5, 1, 0.09090909090909091, 2],\n",
       "                         &#x27;kernel&#x27;: [&#x27;rbf&#x27;]},\n",
       "             verbose=2)</pre><b>In a Jupyter environment, please rerun this cell to show the HTML representation or trust the notebook. <br />On GitHub, the HTML representation is unable to render, please try loading this page with nbviewer.org.</b></div><div class=\"sk-container\" hidden><div class=\"sk-item sk-dashed-wrapped\"><div class=\"sk-label-container\"><div class=\"sk-label sk-toggleable\"><input class=\"sk-toggleable__control sk-hidden--visually\" id=\"sk-estimator-id-12\" type=\"checkbox\" ><label for=\"sk-estimator-id-12\" class=\"sk-toggleable__label sk-toggleable__label-arrow\">GridSearchCV</label><div class=\"sk-toggleable__content\"><pre>GridSearchCV(cv=5, estimator=SVC(random_state=0), n_jobs=-1,\n",
       "             param_grid={&#x27;C&#x27;: [2, 3, 3.5, 4, 4.5, 5, 6],\n",
       "                         &#x27;gamma&#x27;: [0.1, 0.5, 1, 0.09090909090909091, 2],\n",
       "                         &#x27;kernel&#x27;: [&#x27;rbf&#x27;]},\n",
       "             verbose=2)</pre></div></div></div><div class=\"sk-parallel\"><div class=\"sk-parallel-item\"><div class=\"sk-item\"><div class=\"sk-label-container\"><div class=\"sk-label sk-toggleable\"><input class=\"sk-toggleable__control sk-hidden--visually\" id=\"sk-estimator-id-13\" type=\"checkbox\" ><label for=\"sk-estimator-id-13\" class=\"sk-toggleable__label sk-toggleable__label-arrow\">estimator: SVC</label><div class=\"sk-toggleable__content\"><pre>SVC(random_state=0)</pre></div></div></div><div class=\"sk-serial\"><div class=\"sk-item\"><div class=\"sk-estimator sk-toggleable\"><input class=\"sk-toggleable__control sk-hidden--visually\" id=\"sk-estimator-id-14\" type=\"checkbox\" ><label for=\"sk-estimator-id-14\" class=\"sk-toggleable__label sk-toggleable__label-arrow\">SVC</label><div class=\"sk-toggleable__content\"><pre>SVC(random_state=0)</pre></div></div></div></div></div></div></div></div></div></div>"
      ],
      "text/plain": [
       "GridSearchCV(cv=5, estimator=SVC(random_state=0), n_jobs=-1,\n",
       "             param_grid={'C': [2, 3, 3.5, 4, 4.5, 5, 6],\n",
       "                         'gamma': [0.1, 0.5, 1, 0.09090909090909091, 2],\n",
       "                         'kernel': ['rbf']},\n",
       "             verbose=2)"
      ]
     },
     "execution_count": 140,
     "metadata": {},
     "output_type": "execute_result"
    }
   ],
   "source": [
    "from sklearn.svm import SVC\n",
    "from sklearn.model_selection import GridSearchCV\n",
    "\n",
    "# Calculate an adjusted scale value for the gamma parameter of the SVM.\n",
    "# Gamma defines how far the influence of a single training example reaches.\n",
    "gamma_scale = 1 / (X_train_scaled.shape[1] * X_train_scaled.var())\n",
    "\n",
    "# Initialize the SVC (Support Vector Classifier) with a random state for reproducibility.\n",
    "svm_model = SVC(random_state=0)\n",
    "\n",
    "# Define the parameter grid for GridSearchCV.\n",
    "# 'C' is the regularization parameter\n",
    "# 'gamma' influences the radius of the area of influence of the support vectors.\n",
    "# 'kernel' specifies the kernel type to be used in the algorithm\n",
    "# 'rbf' stands for radial basis function.\n",
    "param_grid = {\n",
    "    'C': [2, 3, 3.5, 4, 4.5, 5, 6],  \n",
    "    'gamma': [0.1, 0.5, 1, gamma_scale, 2],  \n",
    "    'kernel': ['rbf']\n",
    "}\n",
    "\n",
    "# Initialize GridSearchCV with the SVC model.\n",
    "# The grid search will explore combinations of parameters specified in param_grid.\n",
    "# 'cv=5' specifies 5-fold cross-validation.\n",
    "# 'verbose=2' will show detailed messages while running the grid search.\n",
    "# 'n_jobs=-1' tells the process to use all available CPU cores to speed up the training.\n",
    "grid_search = GridSearchCV(SVC(random_state=0), param_grid, cv=5, verbose=2, n_jobs=-1)\n",
    "\n",
    "# Fit the GridSearchCV to the scaled training data.\n",
    "# This process finds the best model parameters from the given grid.\n",
    "grid_search.fit(X_train_scaled, y_train)"
   ]
  },
  {
   "cell_type": "markdown",
   "id": "94420e5b-e6c6-447b-a89a-201aa517e710",
   "metadata": {},
   "source": [
    "**A2.4.**"
   ]
  },
  {
   "cell_type": "markdown",
   "id": "3bfa308f-c7d5-4c95-b6e6-d34c4d8bc396",
   "metadata": {},
   "source": [
    "**Random Forest algorithms model**"
   ]
  },
  {
   "cell_type": "code",
   "execution_count": 122,
   "id": "b2a0994d-86e4-4c3c-8e1c-7307267ade59",
   "metadata": {},
   "outputs": [
    {
     "data": {
      "text/html": [
       "<style>#sk-container-id-8 {color: black;background-color: white;}#sk-container-id-8 pre{padding: 0;}#sk-container-id-8 div.sk-toggleable {background-color: white;}#sk-container-id-8 label.sk-toggleable__label {cursor: pointer;display: block;width: 100%;margin-bottom: 0;padding: 0.3em;box-sizing: border-box;text-align: center;}#sk-container-id-8 label.sk-toggleable__label-arrow:before {content: \"▸\";float: left;margin-right: 0.25em;color: #696969;}#sk-container-id-8 label.sk-toggleable__label-arrow:hover:before {color: black;}#sk-container-id-8 div.sk-estimator:hover label.sk-toggleable__label-arrow:before {color: black;}#sk-container-id-8 div.sk-toggleable__content {max-height: 0;max-width: 0;overflow: hidden;text-align: left;background-color: #f0f8ff;}#sk-container-id-8 div.sk-toggleable__content pre {margin: 0.2em;color: black;border-radius: 0.25em;background-color: #f0f8ff;}#sk-container-id-8 input.sk-toggleable__control:checked~div.sk-toggleable__content {max-height: 200px;max-width: 100%;overflow: auto;}#sk-container-id-8 input.sk-toggleable__control:checked~label.sk-toggleable__label-arrow:before {content: \"▾\";}#sk-container-id-8 div.sk-estimator input.sk-toggleable__control:checked~label.sk-toggleable__label {background-color: #d4ebff;}#sk-container-id-8 div.sk-label input.sk-toggleable__control:checked~label.sk-toggleable__label {background-color: #d4ebff;}#sk-container-id-8 input.sk-hidden--visually {border: 0;clip: rect(1px 1px 1px 1px);clip: rect(1px, 1px, 1px, 1px);height: 1px;margin: -1px;overflow: hidden;padding: 0;position: absolute;width: 1px;}#sk-container-id-8 div.sk-estimator {font-family: monospace;background-color: #f0f8ff;border: 1px dotted black;border-radius: 0.25em;box-sizing: border-box;margin-bottom: 0.5em;}#sk-container-id-8 div.sk-estimator:hover {background-color: #d4ebff;}#sk-container-id-8 div.sk-parallel-item::after {content: \"\";width: 100%;border-bottom: 1px solid gray;flex-grow: 1;}#sk-container-id-8 div.sk-label:hover label.sk-toggleable__label {background-color: #d4ebff;}#sk-container-id-8 div.sk-serial::before {content: \"\";position: absolute;border-left: 1px solid gray;box-sizing: border-box;top: 0;bottom: 0;left: 50%;z-index: 0;}#sk-container-id-8 div.sk-serial {display: flex;flex-direction: column;align-items: center;background-color: white;padding-right: 0.2em;padding-left: 0.2em;position: relative;}#sk-container-id-8 div.sk-item {position: relative;z-index: 1;}#sk-container-id-8 div.sk-parallel {display: flex;align-items: stretch;justify-content: center;background-color: white;position: relative;}#sk-container-id-8 div.sk-item::before, #sk-container-id-8 div.sk-parallel-item::before {content: \"\";position: absolute;border-left: 1px solid gray;box-sizing: border-box;top: 0;bottom: 0;left: 50%;z-index: -1;}#sk-container-id-8 div.sk-parallel-item {display: flex;flex-direction: column;z-index: 1;position: relative;background-color: white;}#sk-container-id-8 div.sk-parallel-item:first-child::after {align-self: flex-end;width: 50%;}#sk-container-id-8 div.sk-parallel-item:last-child::after {align-self: flex-start;width: 50%;}#sk-container-id-8 div.sk-parallel-item:only-child::after {width: 0;}#sk-container-id-8 div.sk-dashed-wrapped {border: 1px dashed gray;margin: 0 0.4em 0.5em 0.4em;box-sizing: border-box;padding-bottom: 0.4em;background-color: white;}#sk-container-id-8 div.sk-label label {font-family: monospace;font-weight: bold;display: inline-block;line-height: 1.2em;}#sk-container-id-8 div.sk-label-container {text-align: center;}#sk-container-id-8 div.sk-container {/* jupyter's `normalize.less` sets `[hidden] { display: none; }` but bootstrap.min.css set `[hidden] { display: none !important; }` so we also need the `!important` here to be able to override the default hidden behavior on the sphinx rendered scikit-learn.org. See: https://github.com/scikit-learn/scikit-learn/issues/21755 */display: inline-block !important;position: relative;}#sk-container-id-8 div.sk-text-repr-fallback {display: none;}</style><div id=\"sk-container-id-8\" class=\"sk-top-container\"><div class=\"sk-text-repr-fallback\"><pre>RandomForestClassifier(random_state=0)</pre><b>In a Jupyter environment, please rerun this cell to show the HTML representation or trust the notebook. <br />On GitHub, the HTML representation is unable to render, please try loading this page with nbviewer.org.</b></div><div class=\"sk-container\" hidden><div class=\"sk-item\"><div class=\"sk-estimator sk-toggleable\"><input class=\"sk-toggleable__control sk-hidden--visually\" id=\"sk-estimator-id-10\" type=\"checkbox\" checked><label for=\"sk-estimator-id-10\" class=\"sk-toggleable__label sk-toggleable__label-arrow\">RandomForestClassifier</label><div class=\"sk-toggleable__content\"><pre>RandomForestClassifier(random_state=0)</pre></div></div></div></div></div>"
      ],
      "text/plain": [
       "RandomForestClassifier(random_state=0)"
      ]
     },
     "execution_count": 122,
     "metadata": {},
     "output_type": "execute_result"
    }
   ],
   "source": [
    "from sklearn.ensemble import RandomForestClassifier\n",
    "from sklearn.model_selection import RandomizedSearchCV\n",
    "\n",
    "# Initialize the Random Forest Classifier with a fixed random state for reproducibility.\n",
    "random_forest_model = RandomForestClassifier(random_state = 0)\n",
    "\n",
    "# Fit the Random Forest model on the scaled training data.\n",
    "random_forest_model.fit(X_train_scaled, y_train)"
   ]
  },
  {
   "cell_type": "markdown",
   "id": "f934497d-3750-4e04-ba5b-587b5761db9e",
   "metadata": {},
   "source": [
    "**Decision Tree algorithms model**"
   ]
  },
  {
   "cell_type": "code",
   "execution_count": 123,
   "id": "458976f8-92c1-4521-9435-c6d7fd6b362d",
   "metadata": {},
   "outputs": [
    {
     "data": {
      "text/html": [
       "<style>#sk-container-id-9 {color: black;background-color: white;}#sk-container-id-9 pre{padding: 0;}#sk-container-id-9 div.sk-toggleable {background-color: white;}#sk-container-id-9 label.sk-toggleable__label {cursor: pointer;display: block;width: 100%;margin-bottom: 0;padding: 0.3em;box-sizing: border-box;text-align: center;}#sk-container-id-9 label.sk-toggleable__label-arrow:before {content: \"▸\";float: left;margin-right: 0.25em;color: #696969;}#sk-container-id-9 label.sk-toggleable__label-arrow:hover:before {color: black;}#sk-container-id-9 div.sk-estimator:hover label.sk-toggleable__label-arrow:before {color: black;}#sk-container-id-9 div.sk-toggleable__content {max-height: 0;max-width: 0;overflow: hidden;text-align: left;background-color: #f0f8ff;}#sk-container-id-9 div.sk-toggleable__content pre {margin: 0.2em;color: black;border-radius: 0.25em;background-color: #f0f8ff;}#sk-container-id-9 input.sk-toggleable__control:checked~div.sk-toggleable__content {max-height: 200px;max-width: 100%;overflow: auto;}#sk-container-id-9 input.sk-toggleable__control:checked~label.sk-toggleable__label-arrow:before {content: \"▾\";}#sk-container-id-9 div.sk-estimator input.sk-toggleable__control:checked~label.sk-toggleable__label {background-color: #d4ebff;}#sk-container-id-9 div.sk-label input.sk-toggleable__control:checked~label.sk-toggleable__label {background-color: #d4ebff;}#sk-container-id-9 input.sk-hidden--visually {border: 0;clip: rect(1px 1px 1px 1px);clip: rect(1px, 1px, 1px, 1px);height: 1px;margin: -1px;overflow: hidden;padding: 0;position: absolute;width: 1px;}#sk-container-id-9 div.sk-estimator {font-family: monospace;background-color: #f0f8ff;border: 1px dotted black;border-radius: 0.25em;box-sizing: border-box;margin-bottom: 0.5em;}#sk-container-id-9 div.sk-estimator:hover {background-color: #d4ebff;}#sk-container-id-9 div.sk-parallel-item::after {content: \"\";width: 100%;border-bottom: 1px solid gray;flex-grow: 1;}#sk-container-id-9 div.sk-label:hover label.sk-toggleable__label {background-color: #d4ebff;}#sk-container-id-9 div.sk-serial::before {content: \"\";position: absolute;border-left: 1px solid gray;box-sizing: border-box;top: 0;bottom: 0;left: 50%;z-index: 0;}#sk-container-id-9 div.sk-serial {display: flex;flex-direction: column;align-items: center;background-color: white;padding-right: 0.2em;padding-left: 0.2em;position: relative;}#sk-container-id-9 div.sk-item {position: relative;z-index: 1;}#sk-container-id-9 div.sk-parallel {display: flex;align-items: stretch;justify-content: center;background-color: white;position: relative;}#sk-container-id-9 div.sk-item::before, #sk-container-id-9 div.sk-parallel-item::before {content: \"\";position: absolute;border-left: 1px solid gray;box-sizing: border-box;top: 0;bottom: 0;left: 50%;z-index: -1;}#sk-container-id-9 div.sk-parallel-item {display: flex;flex-direction: column;z-index: 1;position: relative;background-color: white;}#sk-container-id-9 div.sk-parallel-item:first-child::after {align-self: flex-end;width: 50%;}#sk-container-id-9 div.sk-parallel-item:last-child::after {align-self: flex-start;width: 50%;}#sk-container-id-9 div.sk-parallel-item:only-child::after {width: 0;}#sk-container-id-9 div.sk-dashed-wrapped {border: 1px dashed gray;margin: 0 0.4em 0.5em 0.4em;box-sizing: border-box;padding-bottom: 0.4em;background-color: white;}#sk-container-id-9 div.sk-label label {font-family: monospace;font-weight: bold;display: inline-block;line-height: 1.2em;}#sk-container-id-9 div.sk-label-container {text-align: center;}#sk-container-id-9 div.sk-container {/* jupyter's `normalize.less` sets `[hidden] { display: none; }` but bootstrap.min.css set `[hidden] { display: none !important; }` so we also need the `!important` here to be able to override the default hidden behavior on the sphinx rendered scikit-learn.org. See: https://github.com/scikit-learn/scikit-learn/issues/21755 */display: inline-block !important;position: relative;}#sk-container-id-9 div.sk-text-repr-fallback {display: none;}</style><div id=\"sk-container-id-9\" class=\"sk-top-container\"><div class=\"sk-text-repr-fallback\"><pre>DecisionTreeClassifier(criterion=&#x27;entropy&#x27;, random_state=0)</pre><b>In a Jupyter environment, please rerun this cell to show the HTML representation or trust the notebook. <br />On GitHub, the HTML representation is unable to render, please try loading this page with nbviewer.org.</b></div><div class=\"sk-container\" hidden><div class=\"sk-item\"><div class=\"sk-estimator sk-toggleable\"><input class=\"sk-toggleable__control sk-hidden--visually\" id=\"sk-estimator-id-11\" type=\"checkbox\" checked><label for=\"sk-estimator-id-11\" class=\"sk-toggleable__label sk-toggleable__label-arrow\">DecisionTreeClassifier</label><div class=\"sk-toggleable__content\"><pre>DecisionTreeClassifier(criterion=&#x27;entropy&#x27;, random_state=0)</pre></div></div></div></div></div>"
      ],
      "text/plain": [
       "DecisionTreeClassifier(criterion='entropy', random_state=0)"
      ]
     },
     "execution_count": 123,
     "metadata": {},
     "output_type": "execute_result"
    }
   ],
   "source": [
    "from sklearn.tree import DecisionTreeClassifier\n",
    "\n",
    "# Initialize the Decision Tree Classifier with the entropy criterion and a fixed random state.\n",
    "# The 'entropy' criterion is used to measure the quality of splits in the training data and to \n",
    "#handle the tree's growth.\n",
    "decision_tree_model = DecisionTreeClassifier(criterion = 'entropy',random_state=0)\n",
    "\n",
    "# Fit the Decision Tree model on the scaled training data.\n",
    "# This step involves creating a model that predicts the value \n",
    "# of a target variable by learning simple decision rules inferred from the data features.\n",
    "decision_tree_model.fit(X_train_scaled, y_train)"
   ]
  },
  {
   "cell_type": "markdown",
   "id": "6a7eb2a3-e356-4550-97c3-e5265d8bd1c5",
   "metadata": {},
   "source": [
    "### **A3. Classification(prediction)**"
   ]
  },
  {
   "cell_type": "markdown",
   "id": "58245cba-e6ba-49a0-938f-37789f714774",
   "metadata": {},
   "source": [
    "**A3.1.**"
   ]
  },
  {
   "cell_type": "markdown",
   "id": "908741e9-b880-4cab-9089-006f12e7da92",
   "metadata": {},
   "source": [
    "**SVM algorithms model accuracies**"
   ]
  },
  {
   "cell_type": "code",
   "execution_count": 126,
   "id": "f945af4b-2561-46b9-88c2-03b818984b25",
   "metadata": {},
   "outputs": [
    {
     "name": "stdout",
     "output_type": "stream",
     "text": [
      "Accuracy of the SVM model for predicting the 'music_genre' label:\n",
      "0.5696456086286594\n"
     ]
    }
   ],
   "source": [
    "# Predict with the best SVM model found by GridSearchCV\n",
    "svm_predictions = grid_search.best_estimator_.predict(X_test_scaled)\n",
    "\n",
    "# Display the accuracies\n",
    "accuracy_of_svm = accuracy_score(y_test, svm_predictions)\n",
    "print(\"Accuracy of the SVM model for predicting the 'music_genre' label:\")\n",
    "print(accuracy_of_svm)"
   ]
  },
  {
   "cell_type": "markdown",
   "id": "3aaec1ac-488d-4075-8931-46bf6406b84d",
   "metadata": {},
   "source": [
    "**Decision Tree algorithms model accuracies**"
   ]
  },
  {
   "cell_type": "code",
   "execution_count": 124,
   "id": "7405d4c2-b781-4bb0-96b6-38eced754de0",
   "metadata": {},
   "outputs": [
    {
     "name": "stdout",
     "output_type": "stream",
     "text": [
      "Accuracy of the Decision Tree model for predicting the 'music_genre' label:\n",
      "0.4406779661016949\n"
     ]
    }
   ],
   "source": [
    "# Decision Tree predictions\n",
    "decision_tree_predictions = dt_model.predict(X_test_scaled)\n",
    "\n",
    "# Calculate the accuracy\n",
    "accuracy_of_decision_tree = accuracy_score(y_test, decision_tree_predictions)\n",
    "\n",
    "# Display the accuracy\n",
    "print(\"Accuracy of the Decision Tree model for predicting the 'music_genre' label:\")\n",
    "print(accuracy_of_decision_tree)"
   ]
  },
  {
   "cell_type": "markdown",
   "id": "51863430-21cb-4aaa-8572-5dc065377506",
   "metadata": {},
   "source": [
    "**Random Forest algorithms model accuracies**"
   ]
  },
  {
   "cell_type": "code",
   "execution_count": 127,
   "id": "5c076e09-c23c-41ce-bc88-198bbf67c6ed",
   "metadata": {},
   "outputs": [
    {
     "name": "stdout",
     "output_type": "stream",
     "text": [
      "Accuracy of the Random Forest model for predicting the 'music_genre' label:\n",
      "0.5574730354391372\n"
     ]
    }
   ],
   "source": [
    "from sklearn.metrics import accuracy_score\n",
    "\n",
    "# Random Forest predictions\n",
    "random_forest_predictions = rf_model.predict(X_test_scaled)\n",
    "\n",
    "# Calculate the accuracy\n",
    "accuracy_of_random_forest = accuracy_score(y_test, random_forest_predictions)\n",
    "\n",
    "# Display the accuracies\n",
    "print(\"Accuracy of the Random Forest model for predicting the 'music_genre' label:\")\n",
    "print(accuracy_of_random_forest)"
   ]
  },
  {
   "cell_type": "markdown",
   "id": "17c5fd74-6ce6-4776-afbb-84b7113707fa",
   "metadata": {},
   "source": [
    "**A3.2.**"
   ]
  },
  {
   "cell_type": "markdown",
   "id": "0bd6a145-b19a-466b-9d12-0a7afc0c94ce",
   "metadata": {},
   "source": [
    "**Random Forest algorithms model confusion matrices (10x10)**"
   ]
  },
  {
   "cell_type": "code",
   "execution_count": 128,
   "id": "9b4014c6-2051-45ef-a7cd-bd1029c1d53b",
   "metadata": {},
   "outputs": [
    {
     "name": "stdout",
     "output_type": "stream",
     "text": [
      "Confusion Matrix for Random Forest:\n",
      "[[223   8  13   0  91  32  56  45  29 161]\n",
      " [ 16 494  37  44  13  20   0  11   0   4]\n",
      " [ 44  74 338   8  69  31   0  82   0  31]\n",
      " [ 18  24  14 560   3  11   0  31   0   8]\n",
      " [ 42   9  33   2 375   4   8  37  13 115]\n",
      " [ 42  33  44   7  19 364  13  72   9  28]\n",
      " [ 21   0   0   0   7   7 313   8 249  34]\n",
      " [ 25  11  91  48  37  88  10 326   5  34]\n",
      " [ 25   0   0   0   6   4 309   7 213  68]\n",
      " [ 84   2   5   2  38   6  36  11  36 412]]\n"
     ]
    }
   ],
   "source": [
    "from sklearn.metrics import confusion_matrix\n",
    "\n",
    "# Random Forest predictions\n",
    "random_forest_predictions = rf_model.predict(X_test_scaled)\n",
    "\n",
    "# Random Forest Confusion Matrix\n",
    "random_forest_confusion_matrix = confusion_matrix(y_test, random_forest_predictions)\n",
    "\n",
    "# Display the confusion matrices\n",
    "print(\"Confusion Matrix for Random Forest:\")\n",
    "print(random_forest_confusion_matrix)"
   ]
  },
  {
   "cell_type": "markdown",
   "id": "d135f1fa-0203-4f9c-af61-c055eb8c9a1f",
   "metadata": {},
   "source": [
    "**Decision Tree algorithms model confusion matrices(10x10)**"
   ]
  },
  {
   "cell_type": "code",
   "execution_count": 129,
   "id": "e43001b6-7abd-452f-9b89-918656f0bb76",
   "metadata": {},
   "outputs": [
    {
     "name": "stdout",
     "output_type": "stream",
     "text": [
      "Confusion Matrix for Decision Tree:\n",
      "[[202  17  33  11  91  50  57  48  37 112]\n",
      " [ 18 438  54  54  19  35   2  12   4   3]\n",
      " [ 41  80 262  38  49  83   6  94   6  18]\n",
      " [ 11  47  18 507   9  15   2  50   0  10]\n",
      " [103  20  54   8 261  34  12  47  14  85]\n",
      " [ 59  45  73  17  31 272  13  87   9  25]\n",
      " [ 63   1   4   0  16  19 235  11 257  33]\n",
      " [ 51  17 101  50  53 108  15 239   9  32]\n",
      " [ 48   1   1   0  19   7 300   4 187  65]\n",
      " [110   5  27   4  83  18  35  26  67 257]]\n"
     ]
    }
   ],
   "source": [
    "from sklearn.metrics import confusion_matrix\n",
    "\n",
    "# Decision Tree predictions\n",
    "decision_tree_predictions = dt_model.predict(X_test_scaled)\n",
    "\n",
    "# Decision Tree Confusion Matrix\n",
    "decision_tree_confusion_matrix = confusion_matrix(y_test, dt_predictions)\n",
    "\n",
    "# Display the confusion matrices\n",
    "print(\"Confusion Matrix for Decision Tree:\")\n",
    "print(decision_tree_confusion_matrix)"
   ]
  },
  {
   "cell_type": "markdown",
   "id": "122ad988-5034-473b-be84-ed398d6f3513",
   "metadata": {},
   "source": [
    "**SVM algorithms model confusion matrices(10x10)**"
   ]
  },
  {
   "cell_type": "code",
   "execution_count": 130,
   "id": "f02f0b4a-30bb-4860-acea-c35fa15b31d8",
   "metadata": {},
   "outputs": [
    {
     "name": "stdout",
     "output_type": "stream",
     "text": [
      "Confusion Matrix for SVM:\n",
      "[[238   8   6   1 112  39  68  35  24 127]\n",
      " [ 16 489  47  36  14  24   0   8   0   5]\n",
      " [ 34  91 349   7  74  27   1  66   1  27]\n",
      " [ 19  25  17 565   3   7   0  26   0   7]\n",
      " [ 47  13  39   2 355  14  14  42  10 102]\n",
      " [ 39  25  38   8  39 373  17  64   6  22]\n",
      " [ 31   1   1   0   7   5 335   5 216  38]\n",
      " [ 33  13  88  41  36  91  20 325   3  25]\n",
      " [ 28   0   0   0   5   0 295   6 211  87]\n",
      " [ 67   0   1   2  34   3  25  11  32 457]]\n"
     ]
    }
   ],
   "source": [
    "from sklearn.svm import SVC\n",
    "from sklearn.model_selection import GridSearchCV\n",
    "from sklearn.metrics import confusion_matrix\n",
    "\n",
    "# SVM Confusion Matrix\n",
    "svm_confusion_matrix = confusion_matrix(y_test, svm_predictions)\n",
    "\n",
    "# Display the confusion matrix\n",
    "print(\"Confusion Matrix for SVM:\")\n",
    "print(svm_confusion_matrix)"
   ]
  },
  {
   "cell_type": "markdown",
   "id": "d5b761a8-8649-4c6f-bccc-db0a699f7734",
   "metadata": {},
   "source": [
    "**A3.3.**"
   ]
  },
  {
   "cell_type": "code",
   "execution_count": 131,
   "id": "7ebdf19a-7a6a-420b-af63-7bb4ef89cbe8",
   "metadata": {},
   "outputs": [
    {
     "name": "stdout",
     "output_type": "stream",
     "text": [
      "Confusion Matrix for SVM:\n",
      "[[238   8   6   1 112  39  68  35  24 127]\n",
      " [ 16 489  47  36  14  24   0   8   0   5]\n",
      " [ 34  91 349   7  74  27   1  66   1  27]\n",
      " [ 19  25  17 565   3   7   0  26   0   7]\n",
      " [ 47  13  39   2 355  14  14  42  10 102]\n",
      " [ 39  25  38   8  39 373  17  64   6  22]\n",
      " [ 31   1   1   0   7   5 335   5 216  38]\n",
      " [ 33  13  88  41  36  91  20 325   3  25]\n",
      " [ 28   0   0   0   5   0 295   6 211  87]\n",
      " [ 67   0   1   2  34   3  25  11  32 457]]\n",
      "\n",
      "Confusion Matrix for Random Forest:\n",
      "[[223   8  13   0  91  32  56  45  29 161]\n",
      " [ 16 494  37  44  13  20   0  11   0   4]\n",
      " [ 44  74 338   8  69  31   0  82   0  31]\n",
      " [ 18  24  14 560   3  11   0  31   0   8]\n",
      " [ 42   9  33   2 375   4   8  37  13 115]\n",
      " [ 42  33  44   7  19 364  13  72   9  28]\n",
      " [ 21   0   0   0   7   7 313   8 249  34]\n",
      " [ 25  11  91  48  37  88  10 326   5  34]\n",
      " [ 25   0   0   0   6   4 309   7 213  68]\n",
      " [ 84   2   5   2  38   6  36  11  36 412]]\n",
      "\n",
      "Confusion Matrix for Decision Tree:\n",
      "[[202  17  33  11  91  50  57  48  37 112]\n",
      " [ 18 438  54  54  19  35   2  12   4   3]\n",
      " [ 41  80 262  38  49  83   6  94   6  18]\n",
      " [ 11  47  18 507   9  15   2  50   0  10]\n",
      " [103  20  54   8 261  34  12  47  14  85]\n",
      " [ 59  45  73  17  31 272  13  87   9  25]\n",
      " [ 63   1   4   0  16  19 235  11 257  33]\n",
      " [ 51  17 101  50  53 108  15 239   9  32]\n",
      " [ 48   1   1   0  19   7 300   4 187  65]\n",
      " [110   5  27   4  83  18  35  26  67 257]]\n",
      "\n",
      "SVM Metrics (Accuracy, Precision, Recall, Specificity): (0.5696456086286594, 0.5692095367758461, 0.5697265728670682, 0.9522050320545301)\n",
      "\n",
      "Random Forest Metrics (Accuracy, Precision, Recall, Specificity): (0.5574730354391372, 0.558385318271333, 0.5574671706751476, 0.9508506929417242)\n",
      "\n",
      "Decision Tree Metrics (Accuracy, Precision, Recall, Specificity): (0.4406779661016949, 0.4382916777841097, 0.4401806465302013, 0.9378600915990232)\n"
     ]
    }
   ],
   "source": [
    "import numpy as np\n",
    "from sklearn.metrics import confusion_matrix, accuracy_score, precision_score, recall_score, classification_report\n",
    "\n",
    "# SVM Confusion Matrix\n",
    "svm_confusion_matrix = confusion_matrix(y_test, svm_predictions)\n",
    "\n",
    "# Random Forest Confusion Matrix\n",
    "random_forest_confusion_matrix = confusion_matrix(y_test, random_forest_predictions)\n",
    "\n",
    "# Decision Tree Confusion Matrix\n",
    "decision_tree_confusion_matrix = confusion_matrix(y_test, dt_predictions)\n",
    "\n",
    "print(\"Confusion Matrix for SVM:\")\n",
    "print(cm_svm)\n",
    "print()\n",
    "print(\"Confusion Matrix for Random Forest:\")\n",
    "print(cm_rf)\n",
    "print()\n",
    "print(\"Confusion Matrix for Decision Tree:\")\n",
    "print(cm_dt)\n",
    "\n",
    "def compute_metrics(conf_matrix):\n",
    "    # Compute overall accuracy\n",
    "    accuracy = np.trace(conf_matrix) / np.sum(conf_matrix)\n",
    "    \n",
    "    # Compute precision, recall for each class\n",
    "    precision = np.diag(conf_matrix) / np.sum(conf_matrix, axis=0)\n",
    "    recall = np.diag(conf_matrix) / np.sum(conf_matrix, axis=1)\n",
    "    \n",
    "    # Compute overall precision and recall\n",
    "    overall_precision = np.nanmean(precision)\n",
    "    overall_recall = np.nanmean(recall)\n",
    "    \n",
    "    # Compute specificity for each class\n",
    "    specificity = []\n",
    "    for i in range(len(conf_matrix)):\n",
    "        true_negatives = np.sum(conf_matrix) - np.sum(conf_matrix[i, :]) - np.sum(conf_matrix[:, i]) + conf_matrix[i, i]\n",
    "        false_positives = np.sum(conf_matrix[:, i]) - conf_matrix[i, i]\n",
    "        spec = true_negatives / (true_negatives + false_positives)\n",
    "        specificity.append(spec)\n",
    "    overall_specificity = np.nanmean(specificity)\n",
    "    \n",
    "    return accuracy, overall_precision, overall_recall, overall_specificity\n",
    "\n",
    "# Compute metrics for SVM, RF, DT\n",
    "metrics_svm = compute_metrics(svm_confusion_matrix)\n",
    "metrics_rf = compute_metrics(random_forest_confusion_matrix)\n",
    "metrics_dt = compute_metrics(decision_tree_confusion_matrix)\n",
    "\n",
    "print()\n",
    "print(\"SVM Metrics (Accuracy, Precision, Recall, Specificity):\", metrics_svm)\n",
    "print()\n",
    "print(\"Random Forest Metrics (Accuracy, Precision, Recall, Specificity):\", metrics_rf)\n",
    "print()\n",
    "print(\"Decision Tree Metrics (Accuracy, Precision, Recall, Specificity):\", metrics_dt)"
   ]
  },
  {
   "cell_type": "markdown",
   "id": "a6b53f52-a13a-47ba-8746-9a0f8aa31738",
   "metadata": {},
   "source": [
    "### **Performances Comparison**\n",
    "\n",
    "### **SVM**: \n",
    "\n",
    "**Accuracy**: 0.5696456086286594\n",
    "\n",
    "**Precision**: 0.5692095367758461\n",
    "\n",
    "**Recall**: 0.5697265728670682\n",
    "\n",
    "**Specificity**: 0.9522050320545301\n",
    "\n",
    "### **Random Forest**: \n",
    "\n",
    "**Accuracy**: 0.5574730354391372\n",
    "\n",
    "**Precision**: 0.558385318271333\n",
    "\n",
    "**Recall**: 0.5574671706751476\n",
    "\n",
    "**Specificity**: 0.9508506929417242\n",
    "\n",
    "### **Decision Tree**: \n",
    "\n",
    "**Accuracy**: 0.4406779661016949\n",
    "\n",
    "**Precision**: 0.4382916777841097\n",
    "\n",
    "**Recall**: 0.4401806465302013\n",
    "\n",
    "**Specificity**: 0.9378600915990232\n",
    "\n",
    "The **Support Vector Machine (SVM)** demonstrated the highest level of accuracy, reaching 0.57. It was closely followed by the **Random Forest model**, which obtained an accuracy of 0.5575. In contrast, the **Decision Tree model** performed considerably worse, with an accuracy of only 0.44\n",
    "\n",
    "### **Comparison and Justification**\n",
    "\n",
    "The Support Vector Machine (SVM) algorithm proves to be the most efficient among the three algorithms that were tested. It attains the highest possible accuracy at around 0.57 and demonstrates excellent precision, recall, and specificity metrics. The proximity of the precision and recall values to the accuracy demonstrates a well-balanced capacity for precisely identifying true positives while reducing the occurrence of false positives and false negatives. The SVM's high specificity, approximately 0.952, indicates its extraordinary ability to accurately detect real negatives. This is particularly relevant in situations when it is critical to reduce false positives. This indicates that SVM is effectively dealing with the complexity and variety of the dataset, possibly gaining advantages from its capability to deal with high-dimensional data and its use of the RBF kernel, which can represent complicated boundaries.SVM best performance is attributed to its ability to effectively model non-linear decision boundaries using the kernel trick, as well as its ability to handle high-dimensional data.\n",
    "\n",
    "The next algorithm is **Random Forest**, which demonstrates an adequate level of performance with an accuracy of around 0.557. Random Forest model is more preferable compared to the Decision Tree because it effectively minimizes the issue of overfitting, which is a common problem with single decision trees.The precision and recall figures, although marginally lower than those of the SVM, still demonstrate commendable predictive performance. Random Forest uses an ensemble approach that combines multiple decision trees to create a more accurate model. However, it is slightly less accurate and balanced compared to the SVM in this particular scenario. \n",
    "\n",
    "The **Decision Tree** model has the lowest performance, achieving an accuracy of approximately 0.44. This particular model is prone to high variance and overfitting, particularly when dealing with complicated datasets or datasets that contain numerous characteristics. The Decision Tree classifier exhibits a precision of 0.438 and a recall of 0.440, indicating the lowest effectiveness in accurately identifying positive cases and a substantial risk of both false positives and negatives. This is shown from the confusion matrix and accuracy score. While they are easier to interpret, they are generally less accurate, as demonstrated in this comparison, which makes them less suitable for complex or imbalanced datasets."
   ]
  },
  {
   "cell_type": "markdown",
   "id": "be940019-df03-47d7-b402-1dd1937b5a8b",
   "metadata": {},
   "source": [
    "### **A4. Independent evaluation**"
   ]
  },
  {
   "cell_type": "markdown",
   "id": "3bb2b635-51c3-4338-8f35-dc87affe8d00",
   "metadata": {},
   "source": [
    "**A4.1.** & **A4.2.a**"
   ]
  },
  {
   "cell_type": "code",
   "execution_count": 191,
   "id": "1586fb49-90a5-4511-9b4d-0dfa5e96ac49",
   "metadata": {},
   "outputs": [
    {
     "name": "stdout",
     "output_type": "stream",
     "text": [
      "Fitting 5 folds for each of 35 candidates, totalling 175 fits\n",
      "Test Accuracy: 0.5696456086286594\n"
     ]
    },
    {
     "data": {
      "image/png": "[encoded data removed]",
      "text/plain": [
       "<Figure size 640x480 with 2 Axes>"
      ]
     },
     "metadata": {},
     "output_type": "display_data"
    }
   ],
   "source": [
    "import pandas as pd\n",
    "from sklearn.model_selection import train_test_split, GridSearchCV\n",
    "from sklearn.preprocessing import StandardScaler\n",
    "from sklearn.svm import SVC\n",
    "from sklearn.metrics import accuracy_score, confusion_matrix, ConfusionMatrixDisplay\n",
    "\n",
    "# Load the dataset with labels\n",
    "data = pd.read_csv(\"FIT1043-MusicGenre-Dataset.csv\")\n",
    "\n",
    "# Selecting columns for 'Input Data' from the dataset\n",
    "X = data.iloc[:, 3:14]  #Input Data: Includes columns that contain various attributes of the songs\n",
    "y = data.iloc[:, 14]    #Label Data: 'music_genre' classification for each song\n",
    "\n",
    "# Split the data into training and test sets\n",
    "X_train, X_test, y_train, y_test = train_test_split(X, y, test_size=0.25, random_state=0)\n",
    "\n",
    "# Feature scaling\n",
    "scaler = StandardScaler()\n",
    "X_train_scaled = scaler.fit_transform(X_train)\n",
    "X_test_scaled = scaler.transform(X_test)\n",
    "\n",
    "# Adjusted gamma scale calculation\n",
    "gamma_scale = 1 / (X_train_scaled.shape[1] * X_train_scaled.var())\n",
    "\n",
    "# Setting up the parameter grid\n",
    "param_grid = {\n",
    "    'C': [2, 3, 3.5, 4, 4.5, 5, 6],\n",
    "    'gamma': [0.1, 0.5, 1, gamma_scale, 2],\n",
    "    'kernel': ['rbf']\n",
    "}\n",
    "\n",
    "# Initialize GridSearchCV\n",
    "grid_search = GridSearchCV(SVC(random_state=0), param_grid, cv=5, verbose=2, n_jobs=-1)\n",
    "\n",
    "# Fit grid_search to the data\n",
    "grid_search.fit(X_train_scaled, y_train)\n",
    "\n",
    "# Get the best estimator\n",
    "best_svm = grid_search.best_estimator_\n",
    "\n",
    "# Predict on the test set using the best estimator\n",
    "y_pred = best_svm.predict(X_test_scaled)\n",
    "\n",
    "# Print accuracy and display confusion matrix\n",
    "print(\"Test Accuracy:\", accuracy_score(y_test, y_pred))\n",
    "cm = confusion_matrix(y_test, y_pred)\n",
    "disp = ConfusionMatrixDisplay(confusion_matrix=cm)\n",
    "disp.plot()\n",
    "\n",
    "# Load the submission dataset\n",
    "submission_data = pd.read_csv(\"FIT1043-MusicGenre-Submission.csv\")\n",
    "\n",
    "# Selecting columns for 'Input Data' from the submission dataset\n",
    "X_submission = submission_data.iloc[:, 3:14]  # Ensure this matches the training data exactly\n",
    "\n",
    "# Feature scaling for the submission dataset\n",
    "X_submission_scaled = scaler.transform(X_submission)\n",
    "\n",
    "# Predict using the trained best SVM model\n",
    "submission_predictions = best_svm.predict(X_submission_scaled)\n",
    "\n",
    "# Store the predictions in a DataFrame\n",
    "submission_data['music_genre'] = submission_predictions\n",
    "\n",
    "\n",
    "result_df = submission_data[['instance_id', 'music_genre']]\n",
    "\n",
    "# Save the results to a CSV file name \"34035958-ChaiShouZheng-v2.csv\"\n",
    "result_df.to_csv(\"34035958-ChaiShouZheng-v2.csv\", index=False)"
   ]
  }
 ],
 "metadata": {
  "kernelspec": {
   "display_name": "Python 3 (ipykernel)",
   "language": "python",
   "name": "python3"
  },
  "language_info": {
   "codemirror_mode": {
    "name": "ipython",
    "version": 3
   },
   "file_extension": ".py",
   "mimetype": "text/x-python",
   "name": "python",
   "nbconvert_exporter": "python",
   "pygments_lexer": "ipython3",
   "version": "3.11.7"
  }
 },
 "nbformat": 4,
 "nbformat_minor": 5
}
